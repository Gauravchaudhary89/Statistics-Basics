{
  "nbformat": 4,
  "nbformat_minor": 0,
  "metadata": {
    "colab": {
      "provenance": []
    },
    "kernelspec": {
      "name": "python3",
      "display_name": "Python 3"
    },
    "language_info": {
      "name": "python"
    }
  },
  "cells": [
    {
      "cell_type": "code",
      "execution_count": null,
      "metadata": {
        "id": "24tOoSa-ymIJ"
      },
      "outputs": [],
      "source": []
    },
    {
      "cell_type": "markdown",
      "source": [
        "                            **THEORITICAL*\n",
        "\n",
        "\n",
        " #1 What is statistics, and why is it important?\n",
        "\n",
        "ANS: Statistics is the branch of mathematics that deals with collecting, organizing, analyzing, interpreting, and presenting data. It is important because it helps in making decisions, understanding patterns, and solving problems in areas like business, healthcare, education, and research.\n",
        "\n",
        "#2 What are the two main types of statistics?\n",
        "ANS:Descriptive Statistics: Summarizes and describes data.\n",
        "\n",
        "Inferential Statistics: Makes predictions or generalizations about a population based on a sample.\n",
        "\n",
        "#3 What are descriptive statistics?\n",
        "ANS: Descriptive statistics involves techniques to describe and summarize data in a meaningful way using tables, graphs, averages, percentages, etc.\n",
        "\n",
        "#4 What is inferential statistics?\n",
        "ANS: Inferential statistics involves making predictions, decisions, or generalizations about a population based on the analysis of a sample.\n",
        "\n",
        "#5 What is sampling in statistics?\n",
        "ANS: Sampling is the process of selecting a small part (sample) from a large group (population) to estimate characteristics of the whole group.\n",
        "\n",
        "#6 What are the different types of sampling methods?\n",
        "ANS:\n",
        "\n",
        "Random Sampling\n",
        "\n",
        "Systematic Sampling\n",
        "\n",
        "Stratified Sampling\n",
        "\n",
        "Cluster Sampling\n",
        "\n",
        "Convenience Sampling\n",
        "\n",
        "Purposive (Judgmental) Sampling\n",
        "\n",
        "#7 What is the difference between random and non-random sampling?\n",
        "ANS:\n",
        "\n",
        "Random Sampling: Every individual has an equal chance of being selected.\n",
        "\n",
        "Non-Random Sampling: Selection is based on judgment, convenience, or specific criteria.\n",
        "\n",
        "#8 Define and give examples of qualitative and quantitative data.\n",
        "ANS:\n",
        "\n",
        "Qualitative Data: Non-numeric data. Example: Colors, names, blood groups.\n",
        "\n",
        "Quantitative Data: Numeric data. Example: Age, marks, weight.\n",
        "\n",
        "#9 What are the different types of data in statistics?\n",
        "ANS:\n",
        "\n",
        "Qualitative (Categorical) Data\n",
        "\n",
        "Quantitative (Numerical) Data: Discrete and Continuous\n",
        "\n",
        "#10 Explain nominal, ordinal, interval, and ratio levels of measurement.\n",
        "ANS:\n",
        "\n",
        "Nominal: Categories without order. Example: Gender\n",
        "\n",
        "Ordinal: Categories with order but no exact difference. Example: Rank\n",
        "\n",
        "Interval: Ordered, equal intervals, no true zero. Example: Temperature in °C\n",
        "\n",
        "Ratio: Like interval but has a true zero. Example: Height, weight\n",
        "\n",
        "#11 What is the measure of central tendency?\n",
        "ANS: It is a value that represents the center or middle of a dataset. It helps to summarize the data with a single representative value.\n",
        "\n",
        "#12 Define mean, median, and mode.\n",
        "ANS:\n",
        "\n",
        "Mean: The average of all values.\n",
        "\n",
        "Median: The middle value when data is arranged in order.\n",
        "\n",
        "Mode: The most frequently occurring value.\n",
        "\n",
        "#13 What is the significance of the measure of central tendency?\n",
        "ANS: It provides a simple summary of the data, indicating where the majority of values lie in a dataset.\n",
        "\n",
        "#14 What is variance, and how is it calculated?\n",
        "ANS: Variance measures how much data points differ from the mean.\n",
        "Formula:\n",
        "\n",
        "𝑉\n",
        "𝑎\n",
        "𝑟\n",
        "𝑖\n",
        "𝑎\n",
        "𝑛\n",
        "𝑐\n",
        "𝑒\n",
        "=\n",
        "∑\n",
        "(\n",
        "𝑥\n",
        "𝑖\n",
        "−\n",
        "𝑥\n",
        "ˉ\n",
        ")\n",
        "2\n",
        "𝑛\n",
        "Variance=\n",
        "n\n",
        "∑(x\n",
        "i\n",
        "​\n",
        " −\n",
        "x\n",
        "ˉ\n",
        " )\n",
        "2\n",
        "\n",
        "​\n",
        "\n",
        "#15 What is standard deviation, and why is it important?\n",
        "ANS: Standard deviation is the square root of variance. It indicates how much the values in a dataset deviate from the mean. It’s important because it’s in the same unit as the original data, making interpretation easier.\n",
        "\n",
        "#16 Define and explain the term range in statistics.\n",
        "ANS: The range is the difference between the highest and lowest values in a dataset.\n",
        "Formula:\n",
        "\n",
        "𝑅\n",
        "𝑎\n",
        "𝑛\n",
        "𝑔\n",
        "𝑒\n",
        "=\n",
        "𝑀\n",
        "𝑎\n",
        "𝑥\n",
        "𝑖\n",
        "𝑚\n",
        "𝑢\n",
        "𝑚\n",
        "−\n",
        "𝑀\n",
        "𝑖\n",
        "𝑛\n",
        "𝑖\n",
        "𝑚\n",
        "𝑢\n",
        "𝑚\n",
        "Range=Maximum−Minimum\n",
        "#17 What is the difference between variance and standard deviation?\n",
        "ANS:\n",
        "\n",
        "Variance: The average of squared deviations from the mean.\n",
        "\n",
        "Standard Deviation: The square root of variance, representing spread in the same units as the data.\n",
        "\n",
        "#18 What is skewness in a dataset?\n",
        "ANS: Skewness measures the asymmetry of a data distribution. It indicates whether data values are more spread out on one side of the mean.\n",
        "\n",
        "#19 What does it mean if a dataset is positively or negatively skewed?\n",
        "ANS:\n",
        "\n",
        "Positively Skewed: Tail is on the right side with few high values.\n",
        "\n",
        "Negatively Skewed: Tail is on the left side with few low values.\n",
        "\n",
        "#20 Define and explain kurtosis.\n",
        "ANS: Kurtosis measures the \"tailedness\" of a data distribution.\n",
        "\n",
        "High kurtosis: More extreme outliers.\n",
        "\n",
        "Low kurtosis: Fewer outliers and lighter tails.\n",
        "\n",
        "#21 What is the purpose of covariance?\n",
        "ANS: Covariance shows the direction of the linear relationship between two variables — whether they increase or decrease together.\n",
        "\n",
        "#22 What does correlation measure in statistics?\n",
        "ANS: Correlation measures both the strength and direction of a linear relationship between two variables, ranging from -1 to +1.\n",
        "\n",
        "#23 What is the difference between covariance and correlation?\n",
        "ANS:\n",
        "\n",
        "Covariance: Measures the direction of the relationship only.\n",
        "\n",
        "Correlation: Measures both the strength and direction of the relationship and is standardized.\n",
        "\n",
        "#24 What are some real-world applications of statistics?\n",
        "ANS:\n",
        "\n",
        "Weather forecasting\n",
        "\n",
        "Business sales analysis\n",
        "\n",
        "Healthcare and medical trials\n",
        "\n",
        "Sports performance tracking\n",
        "\n",
        "Government policy-making\n",
        "\n",
        "Public opinion surveys\n",
        "\n",
        "Manufacturing quality control   \n",
        "\n",
        "\n",
        "                             **PRACTICAL**"
      ],
      "metadata": {
        "id": "vskgK1RWynUJ"
      }
    },
    {
      "cell_type": "code",
      "source": [
        "#1 How do you calculate the mean, median, and mode of a dataset?\n",
        "import statistics as stats\n",
        "\n",
        "data = [4, 6, 8, 6, 9, 2, 6]\n",
        "print(stats.mean(data))\n",
        "print(stats.median(data))\n",
        "print(stats.mode(data))"
      ],
      "metadata": {
        "colab": {
          "base_uri": "https://localhost:8080/"
        },
        "id": "B1-gS_UMzgE3",
        "outputId": "a2c12a70-9fe2-42d1-93b1-54819183a27f"
      },
      "execution_count": 1,
      "outputs": [
        {
          "output_type": "stream",
          "name": "stdout",
          "text": [
            "5.857142857142857\n",
            "6\n",
            "6\n"
          ]
        }
      ]
    },
    {
      "cell_type": "code",
      "source": [
        "#2 Write a Python program to compute the variance and standard deviation of a dataset\n",
        "import statistics as stats\n",
        "\n",
        "data = [10, 20, 30, 40, 50]\n",
        "print(stats.variance(data))\n",
        "print(stats.stdev(data))"
      ],
      "metadata": {
        "colab": {
          "base_uri": "https://localhost:8080/"
        },
        "id": "oW9PoFN3z7Kq",
        "outputId": "da0f0052-5ca3-4357-c703-08806f30c23b"
      },
      "execution_count": 2,
      "outputs": [
        {
          "output_type": "stream",
          "name": "stdout",
          "text": [
            "250\n",
            "15.811388300841896\n"
          ]
        }
      ]
    },
    {
      "cell_type": "code",
      "source": [
        "#3 Create a dataset and classify it into nominal, ordinal, interval, and ratio types\n",
        "ANS:\n",
        "Dataset:\n",
        "\n",
        "Gender: ['Male', 'Female'] → Nominal\n",
        "\n",
        "Rating: [Poor, Average, Good, Excellent] → Ordinal\n",
        "\n",
        "Temperature in °C: [30, 32, 35] → Interval\n",
        "\n",
        "Weight in kg: [50, 65, 70] → Ratio"
      ],
      "metadata": {
        "id": "DxTsLhzK0Jb8"
      },
      "execution_count": null,
      "outputs": []
    },
    {
      "cell_type": "code",
      "source": [
        "#4 Implement sampling techniques like random sampling and stratified sampling\n",
        "import pandas as pd\n",
        "import numpy as np\n",
        "from sklearn.model_selection import train_test_split\n",
        "\n",
        "data = pd.DataFrame({'Age': np.random.randint(18, 60, 100)})\n",
        "print(data.sample(n=10))\n",
        "\n",
        "data['Group'] = np.where(data['Age'] < 30, 'Young', 'Old')\n",
        "train, test = train_test_split(data, test_size=0.2, stratify=data['Group'])\n",
        "print(train['Group'].value_counts())"
      ],
      "metadata": {
        "colab": {
          "base_uri": "https://localhost:8080/"
        },
        "id": "FJXaaLF00VOt",
        "outputId": "9f1ce6bb-f77d-495a-94c2-e15db49786b1"
      },
      "execution_count": 3,
      "outputs": [
        {
          "output_type": "stream",
          "name": "stdout",
          "text": [
            "    Age\n",
            "94   55\n",
            "20   31\n",
            "83   49\n",
            "3    32\n",
            "33   57\n",
            "55   57\n",
            "26   42\n",
            "64   32\n",
            "1    40\n",
            "72   47\n",
            "Group\n",
            "Old      61\n",
            "Young    19\n",
            "Name: count, dtype: int64\n"
          ]
        }
      ]
    },
    {
      "cell_type": "code",
      "source": [
        "#5 Write a Python function to calculate the range of a dataset\n",
        "def data_range(data):\n",
        "    return max(data) - min(data)\n",
        "\n",
        "print(data_range([5, 10, 15, 20, 25]))"
      ],
      "metadata": {
        "colab": {
          "base_uri": "https://localhost:8080/"
        },
        "id": "_AMjc3SL0cbZ",
        "outputId": "c45a700d-25ee-4045-ed9e-e76a05f06913"
      },
      "execution_count": 4,
      "outputs": [
        {
          "output_type": "stream",
          "name": "stdout",
          "text": [
            "20\n"
          ]
        }
      ]
    },
    {
      "cell_type": "code",
      "source": [
        "#6 Create a dataset and plot its histogram to visualize skewness\n",
        "import matplotlib.pyplot as plt\n",
        "import numpy as np\n",
        "\n",
        "data = np.random.normal(50, 10, 1000)\n",
        "plt.hist(data, bins=20)\n",
        "plt.show()"
      ],
      "metadata": {
        "colab": {
          "base_uri": "https://localhost:8080/",
          "height": 430
        },
        "id": "3XvDwdmJ0g-b",
        "outputId": "a73af455-6027-4f28-9b66-11629e08b93a"
      },
      "execution_count": 5,
      "outputs": [
        {
          "output_type": "display_data",
          "data": {
            "text/plain": [
              "<Figure size 640x480 with 1 Axes>"
            ],
            "image/png": "[encoded data removed]"
          },
          "metadata": {}
        }
      ]
    },
    {
      "cell_type": "code",
      "source": [
        "#7 Calculate skewness and kurtosis of a dataset using Python libraries\n",
        "from scipy.stats import skew, kurtosis\n",
        "import numpy as np\n",
        "\n",
        "data = np.random.normal(0, 1, 1000)\n",
        "print(skew(data))\n",
        "print(kurtosis(data))"
      ],
      "metadata": {
        "colab": {
          "base_uri": "https://localhost:8080/"
        },
        "id": "6260xm080lU7",
        "outputId": "fd489c66-39d2-4213-c774-991e86030759"
      },
      "execution_count": 6,
      "outputs": [
        {
          "output_type": "stream",
          "name": "stdout",
          "text": [
            "-0.05987986207657577\n",
            "-0.04807459719774787\n"
          ]
        }
      ]
    },
    {
      "cell_type": "code",
      "source": [
        "#8 Generate a dataset and demonstrate positive and negative skewness\n",
        "import matplotlib.pyplot as plt\n",
        "import numpy as np\n",
        "\n",
        "pos_skew = np.random.exponential(scale=2, size=1000)\n",
        "plt.hist(pos_skew, bins=20)\n",
        "plt.title(\"Positive Skew\")\n",
        "plt.show()\n",
        "\n",
        "neg_skew = -np.random.exponential(scale=2, size=1000)\n",
        "plt.hist(neg_skew, bins=20)\n",
        "plt.title(\"Negative Skew\")\n",
        "plt.show()"
      ],
      "metadata": {
        "colab": {
          "base_uri": "https://localhost:8080/",
          "height": 887
        },
        "id": "RU9GeaHD0pjN",
        "outputId": "b12c08ee-9038-4b84-f89c-9b4c1cbd2c48"
      },
      "execution_count": 7,
      "outputs": [
        {
          "output_type": "display_data",
          "data": {
            "text/plain": [
              "<Figure size 640x480 with 1 Axes>"
            ],
            "image/png": "[encoded data removed]"
          },
          "metadata": {}
        },
        {
          "output_type": "display_data",
          "data": {
            "text/plain": [
              "<Figure size 640x480 with 1 Axes>"
            ],
            "image/png": "[encoded data removed]"
          },
          "metadata": {}
        }
      ]
    },
    {
      "cell_type": "code",
      "source": [
        "#9 Write a Python script to calculate covariance between two datasets\n",
        "import numpy as np\n",
        "\n",
        "x = [2, 4, 6, 8]\n",
        "y = [1, 3, 5, 7]\n",
        "print(np.cov(x, y)[0][1])"
      ],
      "metadata": {
        "colab": {
          "base_uri": "https://localhost:8080/"
        },
        "id": "VQAjTql70vVo",
        "outputId": "1a7f6c98-96b8-43a6-bca3-cbc7f12b5f1a"
      },
      "execution_count": 8,
      "outputs": [
        {
          "output_type": "stream",
          "name": "stdout",
          "text": [
            "6.666666666666666\n"
          ]
        }
      ]
    },
    {
      "cell_type": "code",
      "source": [
        "#10 Write a Python script to calculate the correlation coefficient between two datasets\n",
        "import numpy as np\n",
        "\n",
        "x = [2, 4, 6, 8]\n",
        "y = [1, 3, 5, 7]\n",
        "print(np.corrcoef(x, y)[0][1])"
      ],
      "metadata": {
        "colab": {
          "base_uri": "https://localhost:8080/"
        },
        "id": "Vaw09FG50zYZ",
        "outputId": "1dc4aa27-cb5a-4398-ca78-9617a6b4a971"
      },
      "execution_count": 9,
      "outputs": [
        {
          "output_type": "stream",
          "name": "stdout",
          "text": [
            "1.0\n"
          ]
        }
      ]
    },
    {
      "cell_type": "code",
      "source": [
        "#11 Create a scatter plot to visualize the relationship between two variables\n",
        "import matplotlib.pyplot as plt\n",
        "\n",
        "x = [2, 4, 6, 8]\n",
        "y = [1, 3, 5, 7]\n",
        "plt.scatter(x, y)\n",
        "plt.show()"
      ],
      "metadata": {
        "colab": {
          "base_uri": "https://localhost:8080/",
          "height": 430
        },
        "id": "fdAxVx9d03pm",
        "outputId": "75d0900e-5700-48a1-d886-1efe3614f6c8"
      },
      "execution_count": 10,
      "outputs": [
        {
          "output_type": "display_data",
          "data": {
            "text/plain": [
              "<Figure size 640x480 with 1 Axes>"
            ],
            "image/png": "[encoded data removed]"
          },
          "metadata": {}
        }
      ]
    },
    {
      "cell_type": "code",
      "source": [
        "#12 Implement and compare simple random sampling and systematic sampling\n",
        "import numpy as np\n",
        "\n",
        "data = np.arange(1, 101)\n",
        "print(np.random.choice(data, 10, replace=False))\n",
        "\n",
        "k = 10\n",
        "print(data[::k])"
      ],
      "metadata": {
        "colab": {
          "base_uri": "https://localhost:8080/"
        },
        "id": "rd7t9Qje08HM",
        "outputId": "ce9ef1d0-cdf4-4f58-e20e-3d14852371a7"
      },
      "execution_count": 11,
      "outputs": [
        {
          "output_type": "stream",
          "name": "stdout",
          "text": [
            "[28 77 99 26 76 73 11 31  6 89]\n",
            "[ 1 11 21 31 41 51 61 71 81 91]\n"
          ]
        }
      ]
    },
    {
      "cell_type": "code",
      "source": [
        "#13 Calculate the mean, median, and mode of grouped data\n",
        "import pandas as pd\n",
        "import numpy as np\n",
        "import statistics as stats\n",
        "\n",
        "data = np.random.randint(1, 100, 50)\n",
        "bins = [0, 20, 40, 60, 80, 100]\n",
        "groups = pd.cut(data, bins)\n",
        "print(data.mean(), np.median(data), stats.mode(data))\n"
      ],
      "metadata": {
        "colab": {
          "base_uri": "https://localhost:8080/"
        },
        "id": "0P9STAUK0_51",
        "outputId": "16c0763b-c1b1-4653-9492-bade6a8ca707"
      },
      "execution_count": 12,
      "outputs": [
        {
          "output_type": "stream",
          "name": "stdout",
          "text": [
            "51.46 47.0 47\n"
          ]
        }
      ]
    },
    {
      "cell_type": "code",
      "source": [
        "#14 Simulate data using Python and calculate its central tendency and dispersion\n",
        "import numpy as np\n",
        "\n",
        "data = np.random.normal(50, 15, 1000)\n",
        "print(np.mean(data))\n",
        "print(np.std(data))\n",
        "print(np.var(data))\n"
      ],
      "metadata": {
        "colab": {
          "base_uri": "https://localhost:8080/"
        },
        "id": "_mXKX1CG1EJ7",
        "outputId": "b57ebab6-c393-4d74-bf36-72e359ff0571"
      },
      "execution_count": 13,
      "outputs": [
        {
          "output_type": "stream",
          "name": "stdout",
          "text": [
            "49.61192460050145\n",
            "14.90540644743418\n",
            "222.17114136321243\n"
          ]
        }
      ]
    },
    {
      "cell_type": "code",
      "source": [
        "#15 Use NumPy or pandas to summarize a dataset’s descriptive statistics\n",
        "import pandas as pd\n",
        "import numpy as np\n",
        "\n",
        "df = pd.DataFrame({'Marks': np.random.randint(0, 100, 50)})\n",
        "print(df.describe())"
      ],
      "metadata": {
        "colab": {
          "base_uri": "https://localhost:8080/"
        },
        "id": "uevmW8Tu1H0e",
        "outputId": "84d9b8ee-20e5-4d59-b222-c6348889ce10"
      },
      "execution_count": 14,
      "outputs": [
        {
          "output_type": "stream",
          "name": "stdout",
          "text": [
            "           Marks\n",
            "count  50.000000\n",
            "mean   48.020000\n",
            "std    31.293535\n",
            "min     0.000000\n",
            "25%    18.000000\n",
            "50%    44.000000\n",
            "75%    78.750000\n",
            "max    99.000000\n"
          ]
        }
      ]
    },
    {
      "cell_type": "code",
      "source": [
        "#16 Plot a boxplot to understand the spread and identify outliers\n",
        "import matplotlib.pyplot as plt\n",
        "import numpy as np\n",
        "\n",
        "data = np.random.normal(50, 10, 1000)\n",
        "plt.boxplot(data)\n",
        "plt.show()"
      ],
      "metadata": {
        "colab": {
          "base_uri": "https://localhost:8080/",
          "height": 430
        },
        "id": "dTluJrMK1LiF",
        "outputId": "21b16782-87ea-4a6f-8765-07eba8f0c439"
      },
      "execution_count": 15,
      "outputs": [
        {
          "output_type": "display_data",
          "data": {
            "text/plain": [
              "<Figure size 640x480 with 1 Axes>"
            ],
            "image/png": "[encoded data removed]"
          },
          "metadata": {}
        }
      ]
    },
    {
      "cell_type": "code",
      "source": [
        "#17 Calculate the interquartile range (IQR) of a dataset\n",
        "import numpy as np\n",
        "\n",
        "data = np.random.normal(50, 10, 1000)\n",
        "Q1 = np.percentile(data, 25)\n",
        "Q3 = np.percentile(data, 75)\n",
        "print(Q3 - Q1)"
      ],
      "metadata": {
        "colab": {
          "base_uri": "https://localhost:8080/"
        },
        "id": "IAhmpr-11SM_",
        "outputId": "cf042c01-e17e-466e-eb40-eb648ed0bb61"
      },
      "execution_count": 16,
      "outputs": [
        {
          "output_type": "stream",
          "name": "stdout",
          "text": [
            "14.076389469222569\n"
          ]
        }
      ]
    },
    {
      "cell_type": "code",
      "source": [
        "#18 Implement Z-score normalization and explain its significance\n",
        "from scipy.stats import zscore\n",
        "import numpy as np\n",
        "\n",
        "data = np.random.normal(50, 10, 1000)\n",
        "print(zscore(data))"
      ],
      "metadata": {
        "colab": {
          "base_uri": "https://localhost:8080/"
        },
        "id": "74xKwIii1VwH",
        "outputId": "600cbeb0-81e8-4d3d-9fbc-7f20485028e7"
      },
      "execution_count": 17,
      "outputs": [
        {
          "output_type": "stream",
          "name": "stdout",
          "text": [
            "[-1.50852526e+00  7.80011621e-01  9.16563049e-01 -1.27426748e+00\n",
            "  6.87755236e-01 -1.23705654e+00 -7.30961670e-01 -1.62592895e+00\n",
            "  1.23032760e-02  9.28419579e-01 -5.71409736e-01 -7.42147890e-01\n",
            " -7.39787811e-01  3.35824718e-01  3.56518080e-02 -1.66781090e+00\n",
            "  1.30707045e+00  6.08992782e-01 -1.68304024e+00  7.64985108e-01\n",
            " -4.57270044e-01  7.20358340e-01  4.15941035e-01 -4.23958618e-01\n",
            "  8.23708577e-01  7.58898896e-01  7.19010139e-01  1.33504056e+00\n",
            " -5.69438028e-01  8.85283148e-01 -3.99452008e-01 -2.30791568e-01\n",
            " -3.54734416e-01 -1.33166021e+00 -2.36300743e-03 -2.19804154e-01\n",
            " -1.48788788e+00 -1.85996780e+00 -7.57907058e-01  5.67495947e-01\n",
            " -7.69738093e-01 -2.26447173e-01  8.38929591e-01 -8.93041371e-01\n",
            "  8.47041347e-01  2.13981162e-01  9.39580362e-03  1.65599899e+00\n",
            "  1.51417515e+00  5.11059531e-01 -3.58583956e-02 -8.26862246e-01\n",
            "  7.24575057e-01 -1.20206203e+00  2.40928726e+00 -1.30280957e+00\n",
            " -5.59129468e-01 -1.17383208e+00 -7.53453370e-01 -1.24307396e+00\n",
            " -2.17243803e-01 -6.52244040e-01 -3.11291428e-01  1.98022304e+00\n",
            " -3.12929164e-01  8.49733079e-01 -1.91761529e+00  4.85807909e-01\n",
            "  1.08882439e-01  5.69960413e-01  8.58905811e-01  4.34965036e-01\n",
            "  1.45423620e+00  3.51971617e+00 -1.92685812e+00 -3.04284009e-01\n",
            "  4.84831189e-01  7.87577285e-02  9.27680829e-01 -7.41024692e-01\n",
            " -2.46015419e-01 -7.54865394e-01  2.92275486e-01 -1.63764276e+00\n",
            "  2.96689773e-01 -2.30619674e+00 -1.62561522e-01 -6.89811528e-01\n",
            " -1.01332996e+00 -1.15034719e+00  4.76850204e-01  1.02822640e+00\n",
            " -9.45876178e-01 -2.37023765e-01  1.05272800e+00  5.26039828e-01\n",
            "  1.26214650e+00  4.19339433e-01  8.57310768e-01  1.53407721e+00\n",
            "  5.26566238e-01  1.22311756e+00 -1.98257189e+00 -3.81130255e-01\n",
            "  1.26724479e+00  3.12873901e-01 -4.91856570e-01 -1.17607035e+00\n",
            " -3.38497983e-01  2.49452627e+00  3.77822428e-01 -1.89837880e+00\n",
            " -2.61861652e-01 -1.69700762e+00  4.62092494e-01  1.42405376e-01\n",
            "  6.97494804e-01  3.82588455e-01 -2.16480817e-01 -2.14216499e-01\n",
            " -1.26109098e+00 -2.68195670e-01 -9.52119635e-01 -2.80992744e-01\n",
            " -6.59478995e-01 -4.35718152e-01  1.27703318e+00 -1.38680808e-01\n",
            " -6.24406613e-01 -9.13917653e-02 -6.15232707e-01 -2.08193569e-02\n",
            " -2.15188043e-01 -7.49473842e-01 -2.08866295e-01  3.61809080e-01\n",
            " -5.30636113e-01  1.78627635e+00 -3.91961250e-01 -2.15872542e-01\n",
            " -3.47929104e-02  1.79077569e+00 -3.60599528e-01  6.68431195e-01\n",
            "  1.07475533e+00  6.55302167e-01 -4.81846580e-01 -4.69649751e-01\n",
            " -1.72199388e+00  1.55368672e+00 -3.40527783e-01  6.19137346e-01\n",
            " -1.57345205e+00  5.53289266e-01 -6.77245589e-01  2.67582628e-01\n",
            " -8.75544052e-01  3.04400756e-01 -1.33438405e-01  3.41684121e-01\n",
            "  1.86203413e-01 -1.86461097e+00 -6.30969646e-01 -9.52820513e-01\n",
            " -6.71046083e-01 -1.16483208e+00  1.03927247e+00 -5.33746796e-01\n",
            " -6.13079302e-01  8.05481068e-01 -1.65811094e+00  3.98970352e-01\n",
            " -5.52931630e-01 -1.91492450e+00 -8.62849149e-01 -5.09392736e-02\n",
            " -2.33248272e+00 -4.78570530e-01 -1.22484500e+00  8.09857858e-01\n",
            "  2.95506502e-01  1.06753173e+00 -3.04260262e-01  1.34498849e-01\n",
            "  7.19550258e-01  1.54202905e+00  3.84023389e-01 -2.89405512e-02\n",
            "  2.81504540e-01  1.58960501e-01 -1.27693886e+00  5.76916764e-01\n",
            " -1.41989470e+00 -1.69489727e-01  6.44106139e-01 -9.80624641e-01\n",
            " -5.53555908e-01  1.14631572e+00 -7.60144566e-01  1.05904373e+00\n",
            "  3.65711531e-01  9.12835910e-01  5.31277676e-01  1.19544604e+00\n",
            "  5.10403706e-01  6.22796738e-02 -1.90260416e-01  4.88889771e-01\n",
            "  1.66555092e-01 -4.20353553e-01  4.03124247e-01  8.54425689e-02\n",
            "  3.92454799e-01  1.28767839e+00  3.52786497e-01  1.74148500e+00\n",
            " -6.65041487e-01  1.19637541e+00 -1.55630975e-01 -8.92342538e-01\n",
            "  1.24809295e+00 -6.87872574e-01  6.79899101e-01 -9.04609481e-01\n",
            "  3.87045855e-01  8.51868575e-02 -3.16036368e-01  8.45245464e-01\n",
            "  1.73801339e+00  2.91102147e-01 -4.08577135e-01 -7.43885441e-01\n",
            "  1.44380804e+00  8.66373227e-01 -1.90749615e+00  3.66564111e-01\n",
            " -8.12336563e-01 -1.08117514e+00 -1.54763514e+00  9.46898198e-01\n",
            "  5.54433637e-01 -4.82867646e-02 -5.47642264e-01  1.39946752e-02\n",
            " -8.79412577e-01 -1.02953489e-01  7.45880692e-01  8.95741987e-01\n",
            "  1.20390424e+00 -1.53819731e+00 -7.17750116e-02  9.19571781e-01\n",
            " -6.09643421e-01 -4.40703950e-01  1.40362826e-01 -2.59939307e+00\n",
            " -1.75392495e+00 -1.45337656e+00 -9.70301103e-03  1.30051933e+00\n",
            " -1.06284186e+00  5.14548865e-01 -1.24193607e+00  1.15680909e+00\n",
            " -1.05972946e+00 -1.90644796e+00  7.02009606e-01  3.67438940e-01\n",
            "  1.02173602e+00 -3.77271217e-01 -1.31964251e+00  4.96132484e-01\n",
            " -6.76733658e-01 -2.33462998e-01 -4.42451360e-01 -7.67327380e-01\n",
            " -2.57304715e-01 -1.34840315e-01  2.36774103e-01 -1.75438023e+00\n",
            " -2.98640755e-01  2.96992402e+00 -1.19480897e+00  1.19184714e+00\n",
            " -3.35689536e-01 -3.20884570e-01  6.98821366e-01  1.07961392e+00\n",
            "  1.88667300e+00  1.07044775e+00 -6.12748345e-02 -3.47619951e-01\n",
            "  2.34422468e-01  3.47330936e-01  1.16304565e+00  1.21379116e+00\n",
            "  6.49297265e-01 -2.64393801e-02  5.57841886e-01 -4.45190347e-01\n",
            "  1.79151402e+00  7.42085729e-01  4.02512194e-01  1.33982217e+00\n",
            "  2.62503792e-01  5.98187828e-01  1.10173009e+00  1.11249087e+00\n",
            "  6.59362611e-01  1.41692913e+00 -7.79066394e-01  6.41678393e-01\n",
            "  1.05190331e+00 -8.57825325e-03 -1.22521683e+00  2.07088876e+00\n",
            "  1.88183281e+00 -5.51616052e-01  3.62620254e-01  4.62535401e-01\n",
            " -5.67820963e-01 -4.22229010e-01  1.30888220e-01  3.50404994e-01\n",
            "  9.19247544e-01 -6.48604656e-01  1.03595184e+00  4.78657051e-01\n",
            "  1.12657279e-01 -1.48405178e+00  9.12811007e-01  1.66464502e+00\n",
            " -1.35143047e+00 -1.74527177e+00 -3.24583088e-02  1.77788151e-02\n",
            "  9.49653638e-02  6.43903325e-01  5.20262144e-01 -5.59607342e-01\n",
            "  2.23686223e-02  2.64094753e-01  1.12556232e-01  5.35340891e-01\n",
            "  3.64983058e-02  1.32312448e-01  1.19679719e-01 -6.58563115e-01\n",
            "  9.40031309e-01 -1.73827845e+00  1.03525744e+00  1.46425551e-01\n",
            "  1.21720316e+00  9.72785961e-01  6.99527320e-01 -3.45642396e-01\n",
            " -2.78458465e-01 -6.07452452e-02  5.44871092e-01 -2.07749799e+00\n",
            "  5.88145598e-01  8.02994343e-01 -5.47849895e-01  2.85766023e-01\n",
            "  2.51701165e-01 -1.73866742e-01 -6.27563883e-02 -8.41086410e-01\n",
            " -3.39246987e-01 -1.70153078e+00  8.93675799e-01  1.24413206e-01\n",
            "  2.07036053e+00 -1.43212414e+00  6.81648480e-02  1.16826836e+00\n",
            " -7.97299064e-01 -4.61303225e-01  8.31342592e-01 -1.20514275e+00\n",
            " -1.80254615e+00 -3.53324662e-01 -9.93076745e-01 -5.02243170e-02\n",
            " -2.91528595e-01 -9.25303340e-01 -4.94059221e-01 -2.16806820e-01\n",
            " -1.31256704e+00  1.64208274e+00  2.21498547e+00  5.99306819e-01\n",
            " -2.21009988e-01  5.91969715e-02  2.16031291e-01  6.75970548e-02\n",
            " -1.92093752e-01  3.23752729e-01  3.03937848e-01 -2.02432402e+00\n",
            "  1.18607240e+00  3.95425521e-01 -4.05561890e-01 -1.29000733e+00\n",
            " -6.63509965e-01 -3.01547190e-01  2.04712807e-01 -1.02683383e+00\n",
            "  5.98361338e-01  5.74673350e-01  2.10185596e+00 -9.83370259e-01\n",
            "  1.18938241e+00 -1.06792804e+00  1.84350075e+00 -1.10843636e-01\n",
            " -5.12189765e-01  4.82208911e-01  1.50104900e-01 -1.96055959e-01\n",
            " -1.12479853e+00  8.78249036e-01 -1.40139765e+00 -8.12384052e-01\n",
            " -2.32467068e-01  1.35926731e-01 -7.11164700e-01  1.58886864e+00\n",
            " -4.04930272e-01 -1.43312910e+00  1.13827101e+00 -8.95743719e-01\n",
            "  5.86486231e-01 -5.16509130e-01  7.55062884e-01 -7.60319371e-01\n",
            "  1.11919963e-01 -7.21411051e-01 -5.10262435e-02 -6.22127746e-01\n",
            " -5.46955106e-02  1.73388519e+00  1.34429169e+00  2.73453274e-02\n",
            " -9.22403054e-01  3.81445932e-01  4.52207010e-01 -1.01968012e+00\n",
            "  6.97252879e-01 -7.42092826e-02 -1.14171573e+00  1.06524565e+00\n",
            " -5.92271419e-01 -8.49485676e-01  2.55516609e-01  5.06746736e-01\n",
            " -3.27487514e-01 -3.90459717e-01  3.26946341e-01  6.29262833e-01\n",
            "  9.29339942e-01 -1.34855557e+00  4.41258796e-01  2.86271736e+00\n",
            "  1.84965248e+00 -8.78721814e-01 -2.33397085e-01  2.45788658e-01\n",
            " -1.17704629e+00 -1.13244950e+00 -2.15123660e-01 -6.86552568e-01\n",
            "  6.51098828e-02 -1.62249708e+00 -1.37520197e+00  2.40444454e-01\n",
            "  5.03923527e-01 -4.36293337e-02 -1.74985124e-01  3.04014943e-01\n",
            " -9.93003897e-02 -9.15814952e-01 -7.12757145e-01  1.44763075e+00\n",
            "  3.91544640e-01  2.54876194e-02 -7.52530363e-01 -6.12376845e-01\n",
            " -5.99481100e-01 -5.78979851e-01 -1.58986713e-01  1.75187553e+00\n",
            "  2.25328969e-02  8.74992020e-01  3.97010754e-01  9.17834675e-01\n",
            "  2.89379577e-02  3.05146329e-01  1.23736897e-01 -1.55063143e-01\n",
            " -6.57470879e-02 -6.11670686e-01  3.20523251e-02  4.04769361e-01\n",
            " -4.70385177e-01  1.31122896e-01 -5.45536434e-01  1.16838735e+00\n",
            "  3.19341133e-01  7.73749330e-01 -4.73982697e-01  1.80463610e-01\n",
            "  6.26683435e-01  5.02860992e-01 -4.39190091e-01 -5.22189445e-01\n",
            "  2.50714632e+00 -3.44177135e-01 -8.91739072e-02  5.50860852e-01\n",
            "  2.05329485e+00 -1.85259294e+00 -3.70170815e-01  2.17869312e-01\n",
            " -6.90666515e-02  3.40678223e-01 -7.02242803e-02 -1.62502386e+00\n",
            "  1.10895523e+00  4.99788122e-01 -4.89153947e-01  3.83562720e-01\n",
            "  6.76932358e-01  2.28122351e+00  5.77469674e-01 -1.25309289e+00\n",
            " -1.76412438e+00  9.58716690e-01  1.18729509e+00 -7.72170796e-01\n",
            " -2.09448781e-01  1.69533981e+00 -7.28640196e-01  7.79553749e-01\n",
            "  2.05447487e+00  2.88530111e-01 -5.75930606e-01  4.19462666e-01\n",
            " -2.64290287e-01 -9.48650942e-01  4.63395284e-01 -1.56197901e+00\n",
            " -1.08438241e+00  1.03301899e+00 -4.18978597e-01 -3.78118600e-01\n",
            "  1.76820510e+00  1.67290603e-01  2.54318259e-01 -4.12803721e-01\n",
            " -1.82838855e-01  1.17523582e+00  2.26839071e+00 -1.92212425e+00\n",
            " -1.24329151e+00  4.64341246e-01  4.98203454e-02  2.58158581e-01\n",
            " -1.96109318e+00 -5.14965416e-01 -1.10000741e+00 -7.50729200e-01\n",
            "  6.73604837e-01  3.16854742e-01  3.05292705e-01 -1.03962581e+00\n",
            " -1.06579532e-01 -3.90447887e-01 -2.63139368e-01  7.67245147e-02\n",
            "  2.48329743e+00  4.21129259e-02  7.68477206e-01 -6.66057064e-01\n",
            " -1.89044950e+00 -2.09582835e-01  1.33703307e+00 -5.89964096e-01\n",
            " -1.32336296e+00 -2.40458552e-01  5.59263073e-02 -6.95121433e-01\n",
            "  6.51983526e-01 -1.42069504e+00 -1.02347579e+00 -7.20946286e-01\n",
            " -1.17821710e+00 -1.88886973e+00  1.44676236e+00  1.00445946e-01\n",
            " -2.49677899e+00 -3.75851704e-01 -1.87236940e+00  5.61031693e-03\n",
            " -1.34026383e+00  1.91830072e+00 -1.16469908e+00 -8.52281576e-02\n",
            "  5.25039052e-01  5.89873479e-01 -3.24038306e-01  9.51397097e-01\n",
            "  3.53502833e-01 -7.30524533e-01 -2.62164374e-01  8.87595466e-01\n",
            " -6.55939087e-01  1.64242344e+00  1.72340770e+00  5.27536997e-01\n",
            " -1.10910620e+00 -2.13688175e-01 -1.95185813e+00 -6.68325478e-02\n",
            " -7.26704024e-01 -5.38731369e-01  4.84399068e-01 -3.64493246e-01\n",
            "  5.51465111e-01 -3.64672215e-01  5.55186305e-02 -8.26823099e-01\n",
            "  1.47772040e+00 -1.27894245e+00 -1.63839458e+00  3.99856040e-01\n",
            " -7.95689702e-01 -1.46753518e+00  7.47997332e-01  8.79944051e-02\n",
            " -1.20617475e+00  5.29391960e-01  1.04924179e+00 -6.84121878e-01\n",
            " -1.12294450e+00  8.56911232e-01  4.98445829e-01  1.71339343e+00\n",
            " -3.77011686e-01 -1.32777978e-01  2.68062271e-01 -1.51937822e-01\n",
            " -7.34752571e-01  1.43361856e+00 -2.76973552e-01 -1.95688621e-01\n",
            "  1.87001714e-01  2.19587712e+00  1.14733664e+00  1.01606538e+00\n",
            " -8.48460578e-01  7.03361893e-01  7.67812552e-02  4.42947167e-02\n",
            "  1.27236094e+00 -1.18290581e+00 -1.00934181e+00  2.51232061e+00\n",
            " -7.33144626e-01  1.62938067e-01  1.00262836e+00  3.33773826e-01\n",
            " -3.10235627e-01 -1.04879184e+00 -2.81007235e+00 -2.78407384e+00\n",
            "  9.36998977e-01  1.43778554e-02  1.64297813e+00 -1.06335818e+00\n",
            " -3.25693846e-01  2.21341076e+00  1.28445671e+00 -1.44695948e+00\n",
            "  2.02425100e+00  2.50853503e+00  1.55297795e-02 -8.80866864e-01\n",
            " -3.50181106e-01  1.30839520e+00 -1.21219655e+00 -7.97559133e-01\n",
            "  2.90980492e-01 -2.22714571e+00  4.88245905e-01 -1.34085237e+00\n",
            " -1.21672730e-01  8.73502167e-01  1.35528452e+00  1.12660323e+00\n",
            "  8.15094346e-01  4.98667165e-01 -5.11151329e-01  1.82176544e+00\n",
            "  3.96854788e-01 -4.58530085e-01  2.90343329e-01  4.76739967e-01\n",
            " -2.44853453e-01 -1.03473210e-01 -6.32492571e-01  1.01502222e-01\n",
            "  6.14173213e-01  4.98162263e-01 -1.58960346e+00 -9.54933626e-01\n",
            "  1.06590373e+00 -4.31321403e-01  2.44750769e-01  6.48552973e-01\n",
            " -1.79696208e-01  2.66067039e-01  1.70833629e+00 -2.14827423e+00\n",
            " -6.17372796e-01 -2.35246944e-01 -1.73318350e-01  1.14279600e+00\n",
            "  1.58273212e-02 -1.27229597e+00  4.65996386e-01 -1.06770557e+00\n",
            "  8.39883709e-01  1.82959760e+00  2.61598699e-01 -1.55048368e+00\n",
            " -1.11063617e+00  2.34997447e-01  6.94231669e-01 -1.37691956e+00\n",
            "  1.40211208e+00 -1.19419040e+00  9.31901822e-01 -7.05702118e-01\n",
            " -1.05473164e+00  5.42134089e-02  6.62848662e-01  1.39498580e+00\n",
            " -1.99078841e-01  1.29711262e+00 -7.66246659e-01  3.27068392e+00\n",
            " -1.53675190e-01 -2.04027991e+00  1.62959116e+00 -1.26982042e-01\n",
            "  6.54604021e-01 -6.93576572e-01 -1.76577792e+00  1.14697567e+00\n",
            " -1.48960801e+00 -5.88138117e-01  4.51874112e-01  1.06141024e+00\n",
            "  5.87393103e-01  9.62421082e-01  5.99770832e-02  3.06359023e-01\n",
            "  6.09628400e-01  1.00294379e+00  1.06483315e-01 -1.19438002e+00\n",
            " -6.27233139e-01 -8.65488023e-01 -7.44557476e-01 -4.75856218e-01\n",
            "  6.12974769e-01 -2.34218695e-01  1.95858049e-01 -6.61910283e-01\n",
            " -7.12648120e-01  5.16274838e-01  1.19935345e+00 -1.01744224e+00\n",
            "  4.37568087e-01  6.00216639e-01 -5.85637930e-02 -5.46522433e-01\n",
            " -1.10067413e+00  1.78227481e+00 -8.99572987e-01 -1.01252377e+00\n",
            "  3.42181376e-01 -6.86833000e-01 -1.76766193e-01  3.42500095e-01\n",
            " -1.55107272e+00  4.73511726e-01  1.31296257e+00  5.99022676e-01\n",
            " -2.60985692e-01  2.48275639e-01  1.72540546e-01 -9.07945741e-01\n",
            "  2.20926358e-01  1.65153169e-01  4.00983805e-01  1.01579604e+00\n",
            " -1.24433344e+00 -5.81291413e-01  6.55692818e-02 -4.21836820e-01\n",
            " -1.08606880e+00  1.79282782e+00 -7.67106035e-01 -1.04855928e+00\n",
            " -2.73763643e-01 -2.66009907e-01 -1.30408258e-02  5.41739192e-01\n",
            " -7.52653741e-01 -1.33203703e+00 -8.11853746e-02 -1.48149071e+00\n",
            "  8.63350990e-01 -6.43520577e-01  2.44055858e+00 -1.81234783e+00\n",
            "  6.95342162e-01 -5.74236951e-02  1.42969332e+00 -2.91853739e-01\n",
            " -1.87065348e+00 -3.85859760e-01 -9.96973118e-02 -1.21764768e+00\n",
            " -9.40360014e-01 -1.46133250e-01  1.18350210e+00 -6.18033199e-02\n",
            " -2.12642556e+00  4.96016953e-01 -8.12666152e-01  1.01519644e-01\n",
            "  1.72443673e+00 -4.56466314e-02 -5.47802173e-01  3.98361648e-01\n",
            " -6.23717598e-01  3.09618383e-01  9.71415726e-01  8.47392223e-01\n",
            " -1.11361026e+00 -4.41550803e-01 -3.53806997e-01 -1.99608433e+00\n",
            "  7.83897924e-01  1.63917287e-01  6.51562264e-01  1.37968945e+00\n",
            " -4.96282365e-01  1.11757769e+00 -7.36830673e-02  4.42817513e-01\n",
            "  1.51811235e-01 -3.06240547e-02  8.66765393e-01  4.37589983e-01\n",
            " -9.12141293e-01  9.82775988e-03 -6.78855401e-02  1.32521963e+00\n",
            " -1.19340818e+00 -3.53186058e-01 -5.58739707e-01 -2.29915787e-01\n",
            " -1.00575392e+00 -7.70325880e-01 -9.50482403e-01  1.46102995e+00\n",
            "  1.76830921e+00  2.06075232e-01  8.29326208e-02 -6.83807093e-01\n",
            "  1.75298033e+00 -4.81298389e-01  4.23209746e-01 -5.52541701e-01\n",
            "  3.14732392e-01  2.94375211e-01 -5.10367897e-02 -1.86920581e-01\n",
            "  1.21016486e+00  7.75155450e-01  1.08196503e+00  7.54442969e-01\n",
            " -7.58135524e-02  7.67130314e-01 -4.65847177e-01  5.47059021e-01\n",
            "  1.71206605e+00 -8.67118183e-01  1.63286029e+00  6.58929185e-01\n",
            " -1.27095291e+00  9.56371847e-01 -2.09226521e-01  5.36692039e-01\n",
            " -1.20064027e+00 -5.82517556e-01  8.13877316e-01  7.31945158e-02\n",
            "  3.11301988e-01  1.38739272e+00  6.19886289e-01 -5.99396877e-01\n",
            " -1.20234575e+00  1.00766863e-01 -9.04986184e-01 -7.09483616e-01\n",
            "  2.45108455e+00  1.02248348e+00 -9.47224898e-01 -1.02956805e-01\n",
            "  1.11516592e+00 -1.16632381e+00  9.43160309e-01 -5.15700470e-01\n",
            " -2.23174364e+00  5.07979234e-01 -7.90547457e-01  1.47199682e+00\n",
            "  5.09930722e-02 -2.07899890e+00 -5.10809259e-01  1.61749799e+00\n",
            " -2.50958987e+00  4.10948488e-01  1.35311845e+00 -1.47215522e+00\n",
            " -8.15290089e-01  1.47426690e+00  1.11804424e+00  4.71018330e-01\n",
            " -1.01244810e+00  3.97373182e-01 -8.74179276e-01 -1.09706036e+00\n",
            " -7.57605142e-01  3.41567372e-01 -1.94137663e-01 -2.22684712e-01\n",
            " -1.46978174e+00  7.73919658e-01  1.53555634e+00  9.74635925e-01\n",
            " -1.13540973e+00  2.98955269e-01 -4.14217524e-01 -1.59759059e+00\n",
            " -1.06520401e-01  9.95841974e-02  1.12673066e+00 -1.31761554e+00\n",
            " -2.36001468e+00 -5.32294457e-01  1.75061610e+00  1.05593181e+00\n",
            "  7.51304971e-01 -9.03862578e-01  2.97687190e+00  1.99880728e-01\n",
            "  1.94525715e+00 -1.11106725e+00 -1.03895362e+00 -2.05993580e+00\n",
            "  2.89040836e-01  1.58285171e+00 -1.19878393e+00 -1.67750048e+00\n",
            " -1.08093445e+00 -1.36310190e+00 -1.50313113e+00  1.48566899e+00\n",
            " -4.20221807e-01  2.65273481e-01  9.20291235e-01  1.88870132e+00\n",
            " -2.89862521e-01 -7.98777903e-01  1.16337745e+00 -3.97157350e-01\n",
            "  9.89300747e-01 -1.11750362e+00  8.05009590e-01  1.87360845e-01\n",
            "  1.80985089e+00  2.36254669e-01 -7.81413037e-01 -1.61205269e+00]\n"
          ]
        }
      ]
    },
    {
      "cell_type": "code",
      "source": [
        "#19 Compare two datasets using their standard deviations\n",
        "import numpy as np\n",
        "\n",
        "data1 = np.random.normal(50, 10, 1000)\n",
        "data2 = np.random.normal(50, 20, 1000)\n",
        "print(np.std(data1))\n",
        "print(np.std(data2))"
      ],
      "metadata": {
        "colab": {
          "base_uri": "https://localhost:8080/"
        },
        "id": "gKMoVtRR1Z5c",
        "outputId": "96814053-5e37-4513-bde0-69f62f1d7847"
      },
      "execution_count": 18,
      "outputs": [
        {
          "output_type": "stream",
          "name": "stdout",
          "text": [
            "9.967811615023766\n",
            "19.58639199006599\n"
          ]
        }
      ]
    },
    {
      "cell_type": "code",
      "source": [
        "#20 Write a Python program to visualize covariance using a heatmap\n",
        "import seaborn as sns\n",
        "import pandas as pd\n",
        "import numpy as np\n",
        "import matplotlib.pyplot as plt\n",
        "\n",
        "data = pd.DataFrame(np.random.rand(100, 3), columns=['A', 'B', 'C'])\n",
        "sns.heatmap(data.cov(), annot=True)\n",
        "plt.show()"
      ],
      "metadata": {
        "colab": {
          "base_uri": "https://localhost:8080/",
          "height": 430
        },
        "id": "1CwUlmET1eUa",
        "outputId": "9d7eb1e1-060b-4058-d0c7-e65c2621d8a5"
      },
      "execution_count": 19,
      "outputs": [
        {
          "output_type": "display_data",
          "data": {
            "text/plain": [
              "<Figure size 640x480 with 2 Axes>"
            ],
            "image/png": "[encoded data removed]"
          },
          "metadata": {}
        }
      ]
    },
    {
      "cell_type": "code",
      "source": [
        "#21 Use seaborn to create a correlation matrix for a dataset\n",
        "import seaborn as sns\n",
        "import pandas as pd\n",
        "import numpy as np\n",
        "import matplotlib.pyplot as plt\n",
        "\n",
        "data = pd.DataFrame(np.random.rand(100, 3), columns=['A', 'B', 'C'])\n",
        "sns.heatmap(data.corr(), annot=True)\n",
        "plt.show()"
      ],
      "metadata": {
        "colab": {
          "base_uri": "https://localhost:8080/",
          "height": 435
        },
        "id": "Trplat6d1i_t",
        "outputId": "423fff25-9242-49cb-a7c9-8d7884013304"
      },
      "execution_count": 20,
      "outputs": [
        {
          "output_type": "display_data",
          "data": {
            "text/plain": [
              "<Figure size 640x480 with 2 Axes>"
            ],
            "image/png": "[encoded data removed]"
          },
          "metadata": {}
        }
      ]
    },
    {
      "cell_type": "code",
      "source": [
        "#22 Generate a dataset and implement both variance and standard deviation computations\n",
        "import numpy as np\n",
        "\n",
        "data = np.random.randint(1, 100, 50)\n",
        "print(np.var(data))\n",
        "print(np.std(data))"
      ],
      "metadata": {
        "colab": {
          "base_uri": "https://localhost:8080/"
        },
        "id": "N1hx6MR91mhJ",
        "outputId": "0939f9a8-39bb-4d8d-c0c0-9df0c3123e1b"
      },
      "execution_count": 21,
      "outputs": [
        {
          "output_type": "stream",
          "name": "stdout",
          "text": [
            "633.9076\n",
            "25.177521720773075\n"
          ]
        }
      ]
    },
    {
      "cell_type": "code",
      "source": [
        "#23 Visualize skewness and kurtosis using Python libraries like matplotlib or seaborn\n",
        "import seaborn as sns\n",
        "import matplotlib.pyplot as plt\n",
        "import numpy as np\n",
        "\n",
        "data = np.random.normal(0, 1, 1000)\n",
        "sns.histplot(data, kde=True)\n",
        "plt.show()"
      ],
      "metadata": {
        "colab": {
          "base_uri": "https://localhost:8080/",
          "height": 430
        },
        "id": "onw6hKO01oRH",
        "outputId": "3be3a09d-96ea-4b7b-815d-81994c12005f"
      },
      "execution_count": 22,
      "outputs": [
        {
          "output_type": "display_data",
          "data": {
            "text/plain": [
              "<Figure size 640x480 with 1 Axes>"
            ],
            "image/png": "[encoded data removed]"
          },
          "metadata": {}
        }
      ]
    },
    {
      "cell_type": "code",
      "source": [
        "#24 Implement the Pearson and Spearman correlation coefficients for a dataset\n",
        "from scipy.stats import pearsonr, spearmanr\n",
        "import numpy as np\n",
        "\n",
        "x = np.random.rand(50)\n",
        "y = np.random.rand(50)\n",
        "\n",
        "print(pearsonr(x, y))\n",
        "print(spearmanr(x, y))"
      ],
      "metadata": {
        "colab": {
          "base_uri": "https://localhost:8080/"
        },
        "id": "ocE3xOCt1uu9",
        "outputId": "706a71f4-2858-4bfa-cda3-784497bf3317"
      },
      "execution_count": 23,
      "outputs": [
        {
          "output_type": "stream",
          "name": "stdout",
          "text": [
            "PearsonRResult(statistic=np.float64(0.2306594812888446), pvalue=np.float64(0.1070553745830603))\n",
            "SignificanceResult(statistic=np.float64(0.24388955582232894), pvalue=np.float64(0.0878553689057347))\n"
          ]
        }
      ]
    }
  ]
}